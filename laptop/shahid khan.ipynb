{
 "cells": [
  {
   "cell_type": "code",
   "execution_count": null,
   "id": "b7c78f41",
   "metadata": {},
   "outputs": [],
   "source": []
  },
  {
   "cell_type": "code",
   "execution_count": 1,
   "id": "d9f18666",
   "metadata": {},
   "outputs": [
    {
     "name": "stdout",
     "output_type": "stream",
     "text": [
      "shahid khan !\n"
     ]
    }
   ],
   "source": [
    "print(\"shahid khan !\")"
   ]
  },
  {
   "cell_type": "code",
   "execution_count": 2,
   "id": "81d71aaf",
   "metadata": {},
   "outputs": [
    {
     "data": {
      "text/plain": [
       "17"
      ]
     },
     "execution_count": 2,
     "metadata": {},
     "output_type": "execute_result"
    }
   ],
   "source": [
    "10+7"
   ]
  },
  {
   "cell_type": "code",
   "execution_count": null,
   "id": "1aa10390",
   "metadata": {},
   "outputs": [],
   "source": [
    "cnrtl+enter- execute/run the cell\n",
    "shift+enter- execute/run the cell\n",
    "\n",
    "esc+a- to add a cell above the current cell\n",
    "esc+b- to add a cell below the current cell\n",
    "\n",
    "esc+d+d- to delete the selected cell"
   ]
  },
  {
   "cell_type": "markdown",
   "id": "fc46ec2b",
   "metadata": {},
   "source": [
    "hello world"
   ]
  },
  {
   "cell_type": "code",
   "execution_count": 6,
   "id": "31320b78",
   "metadata": {},
   "outputs": [
    {
     "data": {
      "text/plain": [
       "15"
      ]
     },
     "execution_count": 6,
     "metadata": {},
     "output_type": "execute_result"
    }
   ],
   "source": [
    "25-10"
   ]
  },
  {
   "cell_type": "raw",
   "id": "c96587c0",
   "metadata": {},
   "source": [
    "cnrtl+enter- execute/run the cell"
   ]
  }
 ],
 "metadata": {
  "kernelspec": {
   "display_name": "Python 3 (ipykernel)",
   "language": "python",
   "name": "python3"
  },
  "language_info": {
   "codemirror_mode": {
    "name": "ipython",
    "version": 3
   },
   "file_extension": ".py",
   "mimetype": "text/x-python",
   "name": "python",
   "nbconvert_exporter": "python",
   "pygments_lexer": "ipython3",
   "version": "3.11.5"
  }
 },
 "nbformat": 4,
 "nbformat_minor": 5
}
